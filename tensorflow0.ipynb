{
  "nbformat": 4,
  "nbformat_minor": 0,
  "metadata": {
    "colab": {
      "name": "tensorflow0.ipynb",
      "provenance": [],
      "collapsed_sections": [],
      "mount_file_id": "1toXPDceQkjspVjbdMALosjv4U19LH-N4",
      "authorship_tag": "ABX9TyPy+FXcKV2M3HmpdJckcyvF",
      "include_colab_link": true
    },
    "kernelspec": {
      "name": "python3",
      "display_name": "Python 3"
    },
    "language_info": {
      "name": "python"
    }
  },
  "cells": [
    {
      "cell_type": "markdown",
      "metadata": {
        "id": "view-in-github",
        "colab_type": "text"
      },
      "source": [
        "<a href=\"https://colab.research.google.com/github/gautamkale/machine-learnig/blob/main/tensorflow0.ipynb\" target=\"_parent\"><img src=\"https://colab.research.google.com/assets/colab-badge.svg\" alt=\"Open In Colab\"/></a>"
      ]
    },
    {
      "cell_type": "code",
      "execution_count": null,
      "metadata": {
        "id": "OoAvEWcIgRaC"
      },
      "outputs": [],
      "source": [
        "import tensorflow as tf\n",
        "import numpy as np\n",
        "import matplotlib.pyplot as plt\n"
      ]
    },
    {
      "cell_type": "code",
      "source": [
        "X= np.array([-7,-3,-1,0,3,7])"
      ],
      "metadata": {
        "id": "rN__zzK4g_Gz"
      },
      "execution_count": null,
      "outputs": []
    },
    {
      "cell_type": "code",
      "source": [
        "y= 10* X+1\n"
      ],
      "metadata": {
        "id": "y2tOG9_Hh8zT"
      },
      "execution_count": null,
      "outputs": []
    },
    {
      "cell_type": "code",
      "source": [
        "Xtf= tf.cast(tf.constant(X),dtype=tf.float32)\n",
        "ytf=tf.cast(tf.constant(y),dtype=tf.float32)\n",
        "Xtf[0].shape, ytf[0].shape,Xtf.ndim,ytf.ndim"
      ],
      "metadata": {
        "colab": {
          "base_uri": "https://localhost:8080/"
        },
        "id": "52J80xTqiFoT",
        "outputId": "38981b5f-00a3-407d-86c9-0c47c87286d5"
      },
      "execution_count": null,
      "outputs": [
        {
          "output_type": "execute_result",
          "data": {
            "text/plain": [
              "(TensorShape([]), TensorShape([]), 1, 1)"
            ]
          },
          "metadata": {},
          "execution_count": 4
        }
      ]
    },
    {
      "cell_type": "code",
      "source": [
        "plt.scatter(X,y)"
      ],
      "metadata": {
        "colab": {
          "base_uri": "https://localhost:8080/",
          "height": 284
        },
        "id": "vGUFZCyXiH85",
        "outputId": "4f3877f1-0354-4d58-88f0-1a604c734640"
      },
      "execution_count": null,
      "outputs": [
        {
          "output_type": "execute_result",
          "data": {
            "text/plain": [
              "<matplotlib.collections.PathCollection at 0x7f4522501d10>"
            ]
          },
          "metadata": {},
          "execution_count": 5
        },
        {
          "output_type": "display_data",
          "data": {
            "image/png": "[encoded data removed]",
            "text/plain": [
              "<Figure size 432x288 with 1 Axes>"
            ]
          },
          "metadata": {
            "needs_background": "light"
          }
        }
      ]
    },
    {
      "cell_type": "code",
      "source": [
        "tf.random.set_seed(42)\n",
        "model=tf.keras.Sequential([\n",
        "tf.keras.layers.InputLayer(1,),\n",
        "  tf.keras.layers.Dense(100,activation=\"relu\") ,\n",
        "    tf.keras.layers.Dense(1)                      \n",
        "])\n",
        "\n",
        "model.compile(loss= tf.keras.losses.mae,optimizer=tf.keras.optimizers.Adam(lr=0.01), metrics=['mae'])\n",
        "\n",
        "\n",
        "model.fit(Xtf,ytf,epochs=100)"
      ],
      "metadata": {
        "colab": {
          "base_uri": "https://localhost:8080/"
        },
        "id": "_rPJ-_Yuimnz",
        "outputId": "93132c86-3a6f-4acd-b5af-d135b14c887d"
      },
      "execution_count": null,
      "outputs": [
        {
          "output_type": "stream",
          "name": "stderr",
          "text": [
            "/usr/local/lib/python3.7/dist-packages/keras/optimizer_v2/adam.py:105: UserWarning: The `lr` argument is deprecated, use `learning_rate` instead.\n",
            "  super(Adam, self).__init__(name, **kwargs)\n"
          ]
        },
        {
          "output_type": "stream",
          "name": "stdout",
          "text": [
            "Epoch 1/100\n",
            "1/1 [==============================] - 1s 528ms/step - loss: 34.7981 - mae: 34.7981\n",
            "Epoch 2/100\n",
            "1/1 [==============================] - 0s 6ms/step - loss: 34.3211 - mae: 34.3211\n",
            "Epoch 3/100\n",
            "1/1 [==============================] - 0s 10ms/step - loss: 33.8425 - mae: 33.8425\n",
            "Epoch 4/100\n",
            "1/1 [==============================] - 0s 5ms/step - loss: 33.3612 - mae: 33.3612\n",
            "Epoch 5/100\n",
            "1/1 [==============================] - 0s 9ms/step - loss: 32.8697 - mae: 32.8697\n",
            "Epoch 6/100\n",
            "1/1 [==============================] - 0s 7ms/step - loss: 32.3675 - mae: 32.3675\n",
            "Epoch 7/100\n",
            "1/1 [==============================] - 0s 4ms/step - loss: 31.8538 - mae: 31.8538\n",
            "Epoch 8/100\n",
            "1/1 [==============================] - 0s 8ms/step - loss: 31.3266 - mae: 31.3266\n",
            "Epoch 9/100\n",
            "1/1 [==============================] - 0s 4ms/step - loss: 30.7833 - mae: 30.7833\n",
            "Epoch 10/100\n",
            "1/1 [==============================] - 0s 6ms/step - loss: 30.2192 - mae: 30.2192\n",
            "Epoch 11/100\n",
            "1/1 [==============================] - 0s 5ms/step - loss: 29.6280 - mae: 29.6280\n",
            "Epoch 12/100\n",
            "1/1 [==============================] - 0s 7ms/step - loss: 29.0066 - mae: 29.0066\n",
            "Epoch 13/100\n",
            "1/1 [==============================] - 0s 5ms/step - loss: 28.3538 - mae: 28.3538\n",
            "Epoch 14/100\n",
            "1/1 [==============================] - 0s 6ms/step - loss: 27.6668 - mae: 27.6668\n",
            "Epoch 15/100\n",
            "1/1 [==============================] - 0s 7ms/step - loss: 26.9432 - mae: 26.9432\n",
            "Epoch 16/100\n",
            "1/1 [==============================] - 0s 5ms/step - loss: 26.1813 - mae: 26.1813\n",
            "Epoch 17/100\n",
            "1/1 [==============================] - 0s 5ms/step - loss: 25.3779 - mae: 25.3779\n",
            "Epoch 18/100\n",
            "1/1 [==============================] - 0s 4ms/step - loss: 24.5300 - mae: 24.5300\n",
            "Epoch 19/100\n",
            "1/1 [==============================] - 0s 8ms/step - loss: 23.6354 - mae: 23.6354\n",
            "Epoch 20/100\n",
            "1/1 [==============================] - 0s 5ms/step - loss: 22.6925 - mae: 22.6925\n",
            "Epoch 21/100\n",
            "1/1 [==============================] - 0s 5ms/step - loss: 21.6996 - mae: 21.6996\n",
            "Epoch 22/100\n",
            "1/1 [==============================] - 0s 5ms/step - loss: 20.6747 - mae: 20.6747\n",
            "Epoch 23/100\n",
            "1/1 [==============================] - 0s 7ms/step - loss: 19.6055 - mae: 19.6055\n",
            "Epoch 24/100\n",
            "1/1 [==============================] - 0s 4ms/step - loss: 18.4821 - mae: 18.4821\n",
            "Epoch 25/100\n",
            "1/1 [==============================] - 0s 6ms/step - loss: 17.3027 - mae: 17.3027\n",
            "Epoch 26/100\n",
            "1/1 [==============================] - 0s 5ms/step - loss: 16.0660 - mae: 16.0660\n",
            "Epoch 27/100\n",
            "1/1 [==============================] - 0s 6ms/step - loss: 14.7711 - mae: 14.7711\n",
            "Epoch 28/100\n",
            "1/1 [==============================] - 0s 6ms/step - loss: 13.4158 - mae: 13.4158\n",
            "Epoch 29/100\n",
            "1/1 [==============================] - 0s 5ms/step - loss: 11.9980 - mae: 11.9980\n",
            "Epoch 30/100\n",
            "1/1 [==============================] - 0s 6ms/step - loss: 10.5166 - mae: 10.5166\n",
            "Epoch 31/100\n",
            "1/1 [==============================] - 0s 7ms/step - loss: 8.9700 - mae: 8.9700\n",
            "Epoch 32/100\n",
            "1/1 [==============================] - 0s 5ms/step - loss: 7.5041 - mae: 7.5041\n",
            "Epoch 33/100\n",
            "1/1 [==============================] - 0s 5ms/step - loss: 6.2645 - mae: 6.2645\n",
            "Epoch 34/100\n",
            "1/1 [==============================] - 0s 5ms/step - loss: 5.3758 - mae: 5.3758\n",
            "Epoch 35/100\n",
            "1/1 [==============================] - 0s 4ms/step - loss: 5.3430 - mae: 5.3430\n",
            "Epoch 36/100\n",
            "1/1 [==============================] - 0s 7ms/step - loss: 5.3214 - mae: 5.3214\n",
            "Epoch 37/100\n",
            "1/1 [==============================] - 0s 6ms/step - loss: 5.0325 - mae: 5.0325\n",
            "Epoch 38/100\n",
            "1/1 [==============================] - 0s 7ms/step - loss: 4.5896 - mae: 4.5896\n",
            "Epoch 39/100\n",
            "1/1 [==============================] - 0s 7ms/step - loss: 4.5085 - mae: 4.5085\n",
            "Epoch 40/100\n",
            "1/1 [==============================] - 0s 6ms/step - loss: 4.3105 - mae: 4.3105\n",
            "Epoch 41/100\n",
            "1/1 [==============================] - 0s 6ms/step - loss: 3.9961 - mae: 3.9961\n",
            "Epoch 42/100\n",
            "1/1 [==============================] - 0s 5ms/step - loss: 4.4706 - mae: 4.4706\n",
            "Epoch 43/100\n",
            "1/1 [==============================] - 0s 7ms/step - loss: 4.6124 - mae: 4.6124\n",
            "Epoch 44/100\n",
            "1/1 [==============================] - 0s 6ms/step - loss: 4.4481 - mae: 4.4481\n",
            "Epoch 45/100\n",
            "1/1 [==============================] - 0s 8ms/step - loss: 4.2324 - mae: 4.2324\n",
            "Epoch 46/100\n",
            "1/1 [==============================] - 0s 6ms/step - loss: 4.2912 - mae: 4.2912\n",
            "Epoch 47/100\n",
            "1/1 [==============================] - 0s 6ms/step - loss: 4.1658 - mae: 4.1658\n",
            "Epoch 48/100\n",
            "1/1 [==============================] - 0s 5ms/step - loss: 3.8867 - mae: 3.8867\n",
            "Epoch 49/100\n",
            "1/1 [==============================] - 0s 6ms/step - loss: 3.4950 - mae: 3.4950\n",
            "Epoch 50/100\n",
            "1/1 [==============================] - 0s 4ms/step - loss: 2.9717 - mae: 2.9717\n",
            "Epoch 51/100\n",
            "1/1 [==============================] - 0s 6ms/step - loss: 2.8271 - mae: 2.8271\n",
            "Epoch 52/100\n",
            "1/1 [==============================] - 0s 5ms/step - loss: 2.8044 - mae: 2.8044\n",
            "Epoch 53/100\n",
            "1/1 [==============================] - 0s 6ms/step - loss: 2.7556 - mae: 2.7556\n",
            "Epoch 54/100\n",
            "1/1 [==============================] - 0s 5ms/step - loss: 2.6837 - mae: 2.6837\n",
            "Epoch 55/100\n",
            "1/1 [==============================] - 0s 6ms/step - loss: 2.5901 - mae: 2.5901\n",
            "Epoch 56/100\n",
            "1/1 [==============================] - 0s 6ms/step - loss: 2.5675 - mae: 2.5675\n",
            "Epoch 57/100\n",
            "1/1 [==============================] - 0s 5ms/step - loss: 2.6179 - mae: 2.6179\n",
            "Epoch 58/100\n",
            "1/1 [==============================] - 0s 6ms/step - loss: 2.7722 - mae: 2.7722\n",
            "Epoch 59/100\n",
            "1/1 [==============================] - 0s 6ms/step - loss: 2.8525 - mae: 2.8525\n",
            "Epoch 60/100\n",
            "1/1 [==============================] - 0s 4ms/step - loss: 2.7198 - mae: 2.7198\n",
            "Epoch 61/100\n",
            "1/1 [==============================] - 0s 6ms/step - loss: 2.3991 - mae: 2.3991\n",
            "Epoch 62/100\n",
            "1/1 [==============================] - 0s 7ms/step - loss: 2.2491 - mae: 2.2491\n",
            "Epoch 63/100\n",
            "1/1 [==============================] - 0s 4ms/step - loss: 2.2166 - mae: 2.2166\n",
            "Epoch 64/100\n",
            "1/1 [==============================] - 0s 4ms/step - loss: 2.1642 - mae: 2.1642\n",
            "Epoch 65/100\n",
            "1/1 [==============================] - 0s 6ms/step - loss: 2.1227 - mae: 2.1227\n",
            "Epoch 66/100\n",
            "1/1 [==============================] - 0s 6ms/step - loss: 2.0712 - mae: 2.0712\n",
            "Epoch 67/100\n",
            "1/1 [==============================] - 0s 6ms/step - loss: 1.9938 - mae: 1.9938\n",
            "Epoch 68/100\n",
            "1/1 [==============================] - 0s 4ms/step - loss: 1.8925 - mae: 1.8925\n",
            "Epoch 69/100\n",
            "1/1 [==============================] - 0s 15ms/step - loss: 1.9698 - mae: 1.9698\n",
            "Epoch 70/100\n",
            "1/1 [==============================] - 0s 6ms/step - loss: 1.9870 - mae: 1.9870\n",
            "Epoch 71/100\n",
            "1/1 [==============================] - 0s 4ms/step - loss: 1.8449 - mae: 1.8449\n",
            "Epoch 72/100\n",
            "1/1 [==============================] - 0s 9ms/step - loss: 1.7413 - mae: 1.7413\n",
            "Epoch 73/100\n",
            "1/1 [==============================] - 0s 6ms/step - loss: 1.7262 - mae: 1.7262\n",
            "Epoch 74/100\n",
            "1/1 [==============================] - 0s 6ms/step - loss: 1.6794 - mae: 1.6794\n",
            "Epoch 75/100\n",
            "1/1 [==============================] - 0s 5ms/step - loss: 1.6210 - mae: 1.6210\n",
            "Epoch 76/100\n",
            "1/1 [==============================] - 0s 6ms/step - loss: 1.6565 - mae: 1.6565\n",
            "Epoch 77/100\n",
            "1/1 [==============================] - 0s 5ms/step - loss: 1.6647 - mae: 1.6647\n",
            "Epoch 78/100\n",
            "1/1 [==============================] - 0s 4ms/step - loss: 1.6484 - mae: 1.6484\n",
            "Epoch 79/100\n",
            "1/1 [==============================] - 0s 6ms/step - loss: 1.6095 - mae: 1.6095\n",
            "Epoch 80/100\n",
            "1/1 [==============================] - 0s 6ms/step - loss: 1.5499 - mae: 1.5499\n",
            "Epoch 81/100\n",
            "1/1 [==============================] - 0s 4ms/step - loss: 1.4711 - mae: 1.4711\n",
            "Epoch 82/100\n",
            "1/1 [==============================] - 0s 6ms/step - loss: 1.3744 - mae: 1.3744\n",
            "Epoch 83/100\n",
            "1/1 [==============================] - 0s 5ms/step - loss: 1.3133 - mae: 1.3133\n",
            "Epoch 84/100\n",
            "1/1 [==============================] - 0s 6ms/step - loss: 1.2730 - mae: 1.2730\n",
            "Epoch 85/100\n",
            "1/1 [==============================] - 0s 4ms/step - loss: 1.2099 - mae: 1.2099\n",
            "Epoch 86/100\n",
            "1/1 [==============================] - 0s 6ms/step - loss: 1.1986 - mae: 1.1986\n",
            "Epoch 87/100\n",
            "1/1 [==============================] - 0s 6ms/step - loss: 1.1637 - mae: 1.1637\n",
            "Epoch 88/100\n",
            "1/1 [==============================] - 0s 4ms/step - loss: 1.0898 - mae: 1.0898\n",
            "Epoch 89/100\n",
            "1/1 [==============================] - 0s 6ms/step - loss: 1.0764 - mae: 1.0764\n",
            "Epoch 90/100\n",
            "1/1 [==============================] - 0s 4ms/step - loss: 1.0306 - mae: 1.0306\n",
            "Epoch 91/100\n",
            "1/1 [==============================] - 0s 7ms/step - loss: 1.0398 - mae: 1.0398\n",
            "Epoch 92/100\n",
            "1/1 [==============================] - 0s 6ms/step - loss: 1.0364 - mae: 1.0364\n",
            "Epoch 93/100\n",
            "1/1 [==============================] - 0s 4ms/step - loss: 1.0070 - mae: 1.0070\n",
            "Epoch 94/100\n",
            "1/1 [==============================] - 0s 6ms/step - loss: 0.9532 - mae: 0.9532\n",
            "Epoch 95/100\n",
            "1/1 [==============================] - 0s 4ms/step - loss: 0.8833 - mae: 0.8833\n",
            "Epoch 96/100\n",
            "1/1 [==============================] - 0s 6ms/step - loss: 0.8208 - mae: 0.8208\n",
            "Epoch 97/100\n",
            "1/1 [==============================] - 0s 4ms/step - loss: 0.7464 - mae: 0.7464\n",
            "Epoch 98/100\n",
            "1/1 [==============================] - 0s 7ms/step - loss: 0.7780 - mae: 0.7780\n",
            "Epoch 99/100\n",
            "1/1 [==============================] - 0s 4ms/step - loss: 0.7686 - mae: 0.7686\n",
            "Epoch 100/100\n",
            "1/1 [==============================] - 0s 6ms/step - loss: 0.6514 - mae: 0.6514\n"
          ]
        },
        {
          "output_type": "execute_result",
          "data": {
            "text/plain": [
              "<keras.callbacks.History at 0x7f45216705d0>"
            ]
          },
          "metadata": {},
          "execution_count": 6
        }
      ]
    },
    {
      "cell_type": "code",
      "source": [
        "model.predict([8])"
      ],
      "metadata": {
        "colab": {
          "base_uri": "https://localhost:8080/"
        },
        "id": "DIYn1SmBh-SX",
        "outputId": "55bd36ce-3245-4606-c701-27eb63991eb7"
      },
      "execution_count": null,
      "outputs": [
        {
          "output_type": "execute_result",
          "data": {
            "text/plain": [
              "array([[80.53687]], dtype=float32)"
            ]
          },
          "metadata": {},
          "execution_count": 7
        }
      ]
    },
    {
      "cell_type": "code",
      "source": [
        "X= tf.range(-100,100,4)\n",
        "y=X*10\n",
        "X , y\n"
      ],
      "metadata": {
        "colab": {
          "base_uri": "https://localhost:8080/"
        },
        "id": "t0BGHnErtVLG",
        "outputId": "e3674b27-40e1-47b9-a3b1-bcc2bae1534b"
      },
      "execution_count": null,
      "outputs": [
        {
          "output_type": "execute_result",
          "data": {
            "text/plain": [
              "(<tf.Tensor: shape=(50,), dtype=int32, numpy=\n",
              " array([-100,  -96,  -92,  -88,  -84,  -80,  -76,  -72,  -68,  -64,  -60,\n",
              "         -56,  -52,  -48,  -44,  -40,  -36,  -32,  -28,  -24,  -20,  -16,\n",
              "         -12,   -8,   -4,    0,    4,    8,   12,   16,   20,   24,   28,\n",
              "          32,   36,   40,   44,   48,   52,   56,   60,   64,   68,   72,\n",
              "          76,   80,   84,   88,   92,   96], dtype=int32)>,\n",
              " <tf.Tensor: shape=(50,), dtype=int32, numpy=\n",
              " array([-1000,  -960,  -920,  -880,  -840,  -800,  -760,  -720,  -680,\n",
              "         -640,  -600,  -560,  -520,  -480,  -440,  -400,  -360,  -320,\n",
              "         -280,  -240,  -200,  -160,  -120,   -80,   -40,     0,    40,\n",
              "           80,   120,   160,   200,   240,   280,   320,   360,   400,\n",
              "          440,   480,   520,   560,   600,   640,   680,   720,   760,\n",
              "          800,   840,   880,   920,   960], dtype=int32)>)"
            ]
          },
          "metadata": {},
          "execution_count": 8
        }
      ]
    },
    {
      "cell_type": "code",
      "source": [
        "len(X), len(y)"
      ],
      "metadata": {
        "colab": {
          "base_uri": "https://localhost:8080/"
        },
        "id": "urMH6KuQ2m7j",
        "outputId": "2cb9df61-f8f3-4982-a01c-47aa2caa1b0a"
      },
      "execution_count": null,
      "outputs": [
        {
          "output_type": "execute_result",
          "data": {
            "text/plain": [
              "(50, 50)"
            ]
          },
          "metadata": {},
          "execution_count": 9
        }
      ]
    },
    {
      "cell_type": "code",
      "source": [
        "X_train=X[:40]\n",
        "X_test=X[40:]\n",
        "\n",
        "y_train=y[:40]\n",
        "y_test=y[40:]\n",
        "\n"
      ],
      "metadata": {
        "id": "ubgmqNR_2t5T"
      },
      "execution_count": null,
      "outputs": []
    },
    {
      "cell_type": "code",
      "source": [
        "plt.figure(figsize=(10,7))\n",
        "plt.scatter(X_train,y_train,c=\"r\",label=\"Training data\")\n",
        "plt.scatter(X_test,y_test,c=\"g\",label=\"Testing Data\")\n",
        "plt.legend()"
      ],
      "metadata": {
        "colab": {
          "base_uri": "https://localhost:8080/",
          "height": 446
        },
        "id": "yedQU75G3DMc",
        "outputId": "6c5dfdb3-5e29-4b1d-944a-7eda8de9bf55"
      },
      "execution_count": null,
      "outputs": [
        {
          "output_type": "execute_result",
          "data": {
            "text/plain": [
              "<matplotlib.legend.Legend at 0x7f451fddf950>"
            ]
          },
          "metadata": {},
          "execution_count": 11
        },
        {
          "output_type": "display_data",
          "data": {
            "image/png": "[encoded data removed]",
            "text/plain": [
              "<Figure size 720x504 with 1 Axes>"
            ]
          },
          "metadata": {
            "needs_background": "light"
          }
        }
      ]
    },
    {
      "cell_type": "code",
      "source": [
        "model =tf.keras.Sequential([\n",
        "         ##                   tf.keras.layers.InputLayer(input_shape=[1]),\n",
        "           tf.keras.layers.Dense(1,input_shape=[1],name=\"inpute\")                        \n",
        "])\n",
        "##model.build(input_shape=[1])\n",
        "model.compile(loss= tf.keras.losses.mae,optimizer=tf.keras.optimizers.Adam(lr=0.1), metrics=['mae'])\n",
        "\n",
        "model.summary()"
      ],
      "metadata": {
        "colab": {
          "base_uri": "https://localhost:8080/"
        },
        "id": "yrEzwarZ3v12",
        "outputId": "366e2ac2-e23e-4f3c-f661-5bae5a83e8cf"
      },
      "execution_count": null,
      "outputs": [
        {
          "output_type": "stream",
          "name": "stdout",
          "text": [
            "Model: \"sequential_1\"\n",
            "_________________________________________________________________\n",
            " Layer (type)                Output Shape              Param #   \n",
            "=================================================================\n",
            " inpute (Dense)              (None, 1)                 2         \n",
            "                                                                 \n",
            "=================================================================\n",
            "Total params: 2\n",
            "Trainable params: 2\n",
            "Non-trainable params: 0\n",
            "_________________________________________________________________\n"
          ]
        },
        {
          "output_type": "stream",
          "name": "stderr",
          "text": [
            "/usr/local/lib/python3.7/dist-packages/keras/optimizer_v2/adam.py:105: UserWarning: The `lr` argument is deprecated, use `learning_rate` instead.\n",
            "  super(Adam, self).__init__(name, **kwargs)\n"
          ]
        }
      ]
    },
    {
      "cell_type": "code",
      "source": [
        "model.fit(X_train,y_train,epochs=100,verbose=1)"
      ],
      "metadata": {
        "colab": {
          "base_uri": "https://localhost:8080/"
        },
        "id": "NOgWvG4SUWoB",
        "outputId": "5870bfad-1960-4982-ebcb-56214ebf07f2"
      },
      "execution_count": null,
      "outputs": [
        {
          "output_type": "stream",
          "name": "stdout",
          "text": [
            "Epoch 1/100\n",
            "2/2 [==============================] - 0s 4ms/step - loss: 393.2817 - mae: 393.2817\n",
            "Epoch 2/100\n",
            "2/2 [==============================] - 0s 8ms/step - loss: 384.4658 - mae: 384.4658\n",
            "Epoch 3/100\n",
            "2/2 [==============================] - 0s 7ms/step - loss: 375.9369 - mae: 375.9369\n",
            "Epoch 4/100\n",
            "2/2 [==============================] - 0s 6ms/step - loss: 367.2739 - mae: 367.2739\n",
            "Epoch 5/100\n",
            "2/2 [==============================] - 0s 5ms/step - loss: 358.7723 - mae: 358.7723\n",
            "Epoch 6/100\n",
            "2/2 [==============================] - 0s 5ms/step - loss: 350.1956 - mae: 350.1956\n",
            "Epoch 7/100\n",
            "2/2 [==============================] - 0s 11ms/step - loss: 341.5493 - mae: 341.5493\n",
            "Epoch 8/100\n",
            "2/2 [==============================] - 0s 5ms/step - loss: 332.5767 - mae: 332.5767\n",
            "Epoch 9/100\n",
            "2/2 [==============================] - 0s 5ms/step - loss: 324.2479 - mae: 324.2479\n",
            "Epoch 10/100\n",
            "2/2 [==============================] - 0s 5ms/step - loss: 315.8215 - mae: 315.8215\n",
            "Epoch 11/100\n",
            "2/2 [==============================] - 0s 4ms/step - loss: 306.8184 - mae: 306.8184\n",
            "Epoch 12/100\n",
            "2/2 [==============================] - 0s 5ms/step - loss: 298.2811 - mae: 298.2811\n",
            "Epoch 13/100\n",
            "2/2 [==============================] - 0s 10ms/step - loss: 289.3720 - mae: 289.3720\n",
            "Epoch 14/100\n",
            "2/2 [==============================] - 0s 4ms/step - loss: 280.7945 - mae: 280.7945\n",
            "Epoch 15/100\n",
            "2/2 [==============================] - 0s 7ms/step - loss: 272.2390 - mae: 272.2390\n",
            "Epoch 16/100\n",
            "2/2 [==============================] - 0s 4ms/step - loss: 263.3437 - mae: 263.3437\n",
            "Epoch 17/100\n",
            "2/2 [==============================] - 0s 5ms/step - loss: 254.6266 - mae: 254.6266\n",
            "Epoch 18/100\n",
            "2/2 [==============================] - 0s 5ms/step - loss: 245.9578 - mae: 245.9578\n",
            "Epoch 19/100\n",
            "2/2 [==============================] - 0s 12ms/step - loss: 237.4523 - mae: 237.4523\n",
            "Epoch 20/100\n",
            "2/2 [==============================] - 0s 10ms/step - loss: 228.6836 - mae: 228.6836\n",
            "Epoch 21/100\n",
            "2/2 [==============================] - 0s 8ms/step - loss: 220.0508 - mae: 220.0508\n",
            "Epoch 22/100\n",
            "2/2 [==============================] - 0s 7ms/step - loss: 211.7604 - mae: 211.7604\n",
            "Epoch 23/100\n",
            "2/2 [==============================] - 0s 9ms/step - loss: 203.1712 - mae: 203.1712\n",
            "Epoch 24/100\n",
            "2/2 [==============================] - 0s 6ms/step - loss: 194.5339 - mae: 194.5339\n",
            "Epoch 25/100\n",
            "2/2 [==============================] - 0s 6ms/step - loss: 186.0345 - mae: 186.0345\n",
            "Epoch 26/100\n",
            "2/2 [==============================] - 0s 6ms/step - loss: 177.6848 - mae: 177.6848\n",
            "Epoch 27/100\n",
            "2/2 [==============================] - 0s 7ms/step - loss: 168.9508 - mae: 168.9508\n",
            "Epoch 28/100\n",
            "2/2 [==============================] - 0s 10ms/step - loss: 160.5997 - mae: 160.5997\n",
            "Epoch 29/100\n",
            "2/2 [==============================] - 0s 6ms/step - loss: 151.5262 - mae: 151.5262\n",
            "Epoch 30/100\n",
            "2/2 [==============================] - 0s 4ms/step - loss: 142.6476 - mae: 142.6476\n",
            "Epoch 31/100\n",
            "2/2 [==============================] - 0s 10ms/step - loss: 134.3675 - mae: 134.3675\n",
            "Epoch 32/100\n",
            "2/2 [==============================] - 0s 11ms/step - loss: 125.3694 - mae: 125.3694\n",
            "Epoch 33/100\n",
            "2/2 [==============================] - 0s 3ms/step - loss: 116.5274 - mae: 116.5274\n",
            "Epoch 34/100\n",
            "2/2 [==============================] - 0s 4ms/step - loss: 107.9546 - mae: 107.9546\n",
            "Epoch 35/100\n",
            "2/2 [==============================] - 0s 3ms/step - loss: 99.0730 - mae: 99.0730\n",
            "Epoch 36/100\n",
            "2/2 [==============================] - 0s 4ms/step - loss: 90.8450 - mae: 90.8450\n",
            "Epoch 37/100\n",
            "2/2 [==============================] - 0s 3ms/step - loss: 82.1490 - mae: 82.1490\n",
            "Epoch 38/100\n",
            "2/2 [==============================] - 0s 4ms/step - loss: 73.7578 - mae: 73.7578\n",
            "Epoch 39/100\n",
            "2/2 [==============================] - 0s 10ms/step - loss: 65.3720 - mae: 65.3720\n",
            "Epoch 40/100\n",
            "2/2 [==============================] - 0s 6ms/step - loss: 57.1104 - mae: 57.1104\n",
            "Epoch 41/100\n",
            "2/2 [==============================] - 0s 3ms/step - loss: 48.7824 - mae: 48.7824\n",
            "Epoch 42/100\n",
            "2/2 [==============================] - 0s 4ms/step - loss: 40.6994 - mae: 40.6994\n",
            "Epoch 43/100\n",
            "2/2 [==============================] - 0s 4ms/step - loss: 32.0044 - mae: 32.0044\n",
            "Epoch 44/100\n",
            "2/2 [==============================] - 0s 3ms/step - loss: 24.1353 - mae: 24.1353\n",
            "Epoch 45/100\n",
            "2/2 [==============================] - 0s 8ms/step - loss: 16.0588 - mae: 16.0588\n",
            "Epoch 46/100\n",
            "2/2 [==============================] - 0s 3ms/step - loss: 8.9501 - mae: 8.9501\n",
            "Epoch 47/100\n",
            "2/2 [==============================] - 0s 4ms/step - loss: 6.2058 - mae: 6.2058\n",
            "Epoch 48/100\n",
            "2/2 [==============================] - 0s 4ms/step - loss: 9.0095 - mae: 9.0095\n",
            "Epoch 49/100\n",
            "2/2 [==============================] - 0s 5ms/step - loss: 11.6036 - mae: 11.6036\n",
            "Epoch 50/100\n",
            "2/2 [==============================] - 0s 7ms/step - loss: 13.1941 - mae: 13.1941\n",
            "Epoch 51/100\n",
            "2/2 [==============================] - 0s 5ms/step - loss: 13.2160 - mae: 13.2160\n",
            "Epoch 52/100\n",
            "2/2 [==============================] - 0s 3ms/step - loss: 11.7962 - mae: 11.7962\n",
            "Epoch 53/100\n",
            "2/2 [==============================] - 0s 5ms/step - loss: 9.1930 - mae: 9.1930\n",
            "Epoch 54/100\n",
            "2/2 [==============================] - 0s 18ms/step - loss: 6.7411 - mae: 6.7411\n",
            "Epoch 55/100\n",
            "2/2 [==============================] - 0s 5ms/step - loss: 4.6606 - mae: 4.6606\n",
            "Epoch 56/100\n",
            "2/2 [==============================] - 0s 7ms/step - loss: 5.5932 - mae: 5.5932\n",
            "Epoch 57/100\n",
            "2/2 [==============================] - 0s 6ms/step - loss: 7.2366 - mae: 7.2366\n",
            "Epoch 58/100\n",
            "2/2 [==============================] - 0s 4ms/step - loss: 7.4624 - mae: 7.4624\n",
            "Epoch 59/100\n",
            "2/2 [==============================] - 0s 4ms/step - loss: 6.3719 - mae: 6.3719\n",
            "Epoch 60/100\n",
            "2/2 [==============================] - 0s 13ms/step - loss: 4.3529 - mae: 4.3529\n",
            "Epoch 61/100\n",
            "2/2 [==============================] - 0s 6ms/step - loss: 3.4415 - mae: 3.4415\n",
            "Epoch 62/100\n",
            "2/2 [==============================] - 0s 4ms/step - loss: 4.2138 - mae: 4.2138\n",
            "Epoch 63/100\n",
            "2/2 [==============================] - 0s 4ms/step - loss: 4.3443 - mae: 4.3443\n",
            "Epoch 64/100\n",
            "2/2 [==============================] - 0s 3ms/step - loss: 3.8539 - mae: 3.8539\n",
            "Epoch 65/100\n",
            "2/2 [==============================] - 0s 9ms/step - loss: 2.8152 - mae: 2.8152\n",
            "Epoch 66/100\n",
            "2/2 [==============================] - 0s 8ms/step - loss: 2.5934 - mae: 2.5934\n",
            "Epoch 67/100\n",
            "2/2 [==============================] - 0s 4ms/step - loss: 2.9195 - mae: 2.9195\n",
            "Epoch 68/100\n",
            "2/2 [==============================] - 0s 3ms/step - loss: 2.2428 - mae: 2.2428\n",
            "Epoch 69/100\n",
            "2/2 [==============================] - 0s 3ms/step - loss: 1.9583 - mae: 1.9583\n",
            "Epoch 70/100\n",
            "2/2 [==============================] - 0s 3ms/step - loss: 2.1697 - mae: 2.1697\n",
            "Epoch 71/100\n",
            "2/2 [==============================] - 0s 3ms/step - loss: 1.8857 - mae: 1.8857\n",
            "Epoch 72/100\n",
            "2/2 [==============================] - 0s 2ms/step - loss: 1.2626 - mae: 1.2626\n",
            "Epoch 73/100\n",
            "2/2 [==============================] - 0s 3ms/step - loss: 1.1813 - mae: 1.1813\n",
            "Epoch 74/100\n",
            "2/2 [==============================] - 0s 5ms/step - loss: 0.8186 - mae: 0.8186\n",
            "Epoch 75/100\n",
            "2/2 [==============================] - 0s 3ms/step - loss: 0.9069 - mae: 0.9069\n",
            "Epoch 76/100\n",
            "2/2 [==============================] - 0s 3ms/step - loss: 0.5339 - mae: 0.5339\n",
            "Epoch 77/100\n",
            "2/2 [==============================] - 0s 3ms/step - loss: 0.1973 - mae: 0.1973\n",
            "Epoch 78/100\n",
            "2/2 [==============================] - 0s 3ms/step - loss: 0.1824 - mae: 0.1824\n",
            "Epoch 79/100\n",
            "2/2 [==============================] - 0s 3ms/step - loss: 0.4246 - mae: 0.4246\n",
            "Epoch 80/100\n",
            "2/2 [==============================] - 0s 10ms/step - loss: 0.9560 - mae: 0.9560\n",
            "Epoch 81/100\n",
            "2/2 [==============================] - 0s 4ms/step - loss: 1.0253 - mae: 1.0253\n",
            "Epoch 82/100\n",
            "2/2 [==============================] - 0s 3ms/step - loss: 0.5567 - mae: 0.5567\n",
            "Epoch 83/100\n",
            "2/2 [==============================] - 0s 3ms/step - loss: 0.6518 - mae: 0.6518\n",
            "Epoch 84/100\n",
            "2/2 [==============================] - 0s 3ms/step - loss: 0.5750 - mae: 0.5750\n",
            "Epoch 85/100\n",
            "2/2 [==============================] - 0s 3ms/step - loss: 0.3132 - mae: 0.3132\n",
            "Epoch 86/100\n",
            "2/2 [==============================] - 0s 4ms/step - loss: 0.6032 - mae: 0.6032\n",
            "Epoch 87/100\n",
            "2/2 [==============================] - 0s 3ms/step - loss: 0.4564 - mae: 0.4564\n",
            "Epoch 88/100\n",
            "2/2 [==============================] - 0s 3ms/step - loss: 0.3019 - mae: 0.3019\n",
            "Epoch 89/100\n",
            "2/2 [==============================] - 0s 3ms/step - loss: 0.8895 - mae: 0.8895\n",
            "Epoch 90/100\n",
            "2/2 [==============================] - 0s 3ms/step - loss: 0.2330 - mae: 0.2330\n",
            "Epoch 91/100\n",
            "2/2 [==============================] - 0s 4ms/step - loss: 0.9595 - mae: 0.9595\n",
            "Epoch 92/100\n",
            "2/2 [==============================] - 0s 3ms/step - loss: 0.3088 - mae: 0.3088\n",
            "Epoch 93/100\n",
            "2/2 [==============================] - 0s 3ms/step - loss: 1.3555 - mae: 1.3555\n",
            "Epoch 94/100\n",
            "2/2 [==============================] - 0s 4ms/step - loss: 0.6220 - mae: 0.6220\n",
            "Epoch 95/100\n",
            "2/2 [==============================] - 0s 3ms/step - loss: 0.6727 - mae: 0.6727\n",
            "Epoch 96/100\n",
            "2/2 [==============================] - 0s 4ms/step - loss: 0.2870 - mae: 0.2870\n",
            "Epoch 97/100\n",
            "2/2 [==============================] - 0s 8ms/step - loss: 0.7793 - mae: 0.7793\n",
            "Epoch 98/100\n",
            "2/2 [==============================] - 0s 4ms/step - loss: 0.2559 - mae: 0.2559\n",
            "Epoch 99/100\n",
            "2/2 [==============================] - 0s 3ms/step - loss: 0.2146 - mae: 0.2146\n",
            "Epoch 100/100\n",
            "2/2 [==============================] - 0s 3ms/step - loss: 0.5432 - mae: 0.5432\n"
          ]
        },
        {
          "output_type": "execute_result",
          "data": {
            "text/plain": [
              "<keras.callbacks.History at 0x7f45215078d0>"
            ]
          },
          "metadata": {},
          "execution_count": 13
        }
      ]
    },
    {
      "cell_type": "code",
      "source": [
        "model.summary()"
      ],
      "metadata": {
        "colab": {
          "base_uri": "https://localhost:8080/"
        },
        "id": "OjU0B3cTQ0gL",
        "outputId": "3e4433e3-d414-4a83-8d69-058838988d2a"
      },
      "execution_count": null,
      "outputs": [
        {
          "output_type": "stream",
          "name": "stdout",
          "text": [
            "Model: \"sequential_1\"\n",
            "_________________________________________________________________\n",
            " Layer (type)                Output Shape              Param #   \n",
            "=================================================================\n",
            " inpute (Dense)              (None, 1)                 2         \n",
            "                                                                 \n",
            "=================================================================\n",
            "Total params: 2\n",
            "Trainable params: 2\n",
            "Non-trainable params: 0\n",
            "_________________________________________________________________\n"
          ]
        }
      ]
    },
    {
      "cell_type": "code",
      "source": [
        "from tensorflow.python.ops.gen_array_ops import shape\n",
        "from tensorflow.keras.utils import plot_model\n",
        "plot_model(model=model,show_shapes=True) "
      ],
      "metadata": {
        "colab": {
          "base_uri": "https://localhost:8080/",
          "height": 201
        },
        "id": "1hWdXWKZedor",
        "outputId": "170d2935-6c50-41eb-92e5-7b4287b56c9b"
      },
      "execution_count": null,
      "outputs": [
        {
          "output_type": "execute_result",
          "data": {
            "image/png": "[encoded data removed]",
            "text/plain": [
              "<IPython.core.display.Image object>"
            ]
          },
          "metadata": {},
          "execution_count": 15
        }
      ]
    },
    {
      "cell_type": "code",
      "source": [
        "y_pred= model.predict(X_test)"
      ],
      "metadata": {
        "id": "0ofad5RviYGo"
      },
      "execution_count": null,
      "outputs": []
    },
    {
      "cell_type": "code",
      "source": [
        "def plot_prediction (X_train=X_train,y_train=y_train,X_test=X_test,y_test=y_test,y_pred=y_pred):\n",
        "  plt.figure(figsize=(10,7))\n",
        "  plt.scatter(X_train,y_train,c=\"r\",label=\"Training data\")\n",
        "  plt.scatter(X_test,y_test,c=\"g\",label=\"Testing Data\")\n",
        "  plt.scatter(X_test,y_pred,c=\"b\",label=\"predction Data\")\n",
        "  plt.legend()"
      ],
      "metadata": {
        "id": "KhYTknitiy2T"
      },
      "execution_count": null,
      "outputs": []
    },
    {
      "cell_type": "code",
      "source": [
        "plot_prediction()"
      ],
      "metadata": {
        "colab": {
          "base_uri": "https://localhost:8080/",
          "height": 428
        },
        "id": "BnZ1MkXljRfE",
        "outputId": "4e5bff96-9a5c-4585-aede-cc9e7f54a1b6"
      },
      "execution_count": null,
      "outputs": [
        {
          "output_type": "display_data",
          "data": {
            "image/png": "[encoded data removed]",
            "text/plain": [
              "<Figure size 720x504 with 1 Axes>"
            ]
          },
          "metadata": {
            "needs_background": "light"
          }
        }
      ]
    },
    {
      "cell_type": "code",
      "source": [
        "model.evaluate(x=X_test,y=y_test)"
      ],
      "metadata": {
        "colab": {
          "base_uri": "https://localhost:8080/"
        },
        "id": "Bsu0kvehoURd",
        "outputId": "05b48c5f-e6ca-4c5b-ed85-1ff6d148881e"
      },
      "execution_count": null,
      "outputs": [
        {
          "output_type": "stream",
          "name": "stdout",
          "text": [
            "1/1 [==============================] - 0s 123ms/step - loss: 1.4056 - mae: 1.4056\n"
          ]
        },
        {
          "output_type": "execute_result",
          "data": {
            "text/plain": [
              "[1.4055907726287842, 1.4055907726287842]"
            ]
          },
          "metadata": {},
          "execution_count": 19
        }
      ]
    },
    {
      "cell_type": "code",
      "source": [
        "mae= tf.keras.metrics.mean_absolute_error(y_true=y_test,y_pred=tf.squeeze(y_pred))\n",
        "mse= tf.keras.metrics.mean_squared_error(y_true=y_test,y_pred=tf.squeeze(y_pred))\n",
        "mae,mse "
      ],
      "metadata": {
        "colab": {
          "base_uri": "https://localhost:8080/"
        },
        "id": "-rimT2hhq5Y-",
        "outputId": "8f145971-24ca-466c-9b04-df2067d4e067"
      },
      "execution_count": null,
      "outputs": [
        {
          "output_type": "execute_result",
          "data": {
            "text/plain": [
              "(<tf.Tensor: shape=(), dtype=float32, numpy=1.4055908>,\n",
              " <tf.Tensor: shape=(), dtype=float32, numpy=2.0137918>)"
            ]
          },
          "metadata": {},
          "execution_count": 20
        }
      ]
    },
    {
      "cell_type": "code",
      "source": [
        "model.save(\"linearModel.h5\")"
      ],
      "metadata": {
        "id": "2RR_Mjjg_dM0"
      },
      "execution_count": null,
      "outputs": []
    },
    {
      "cell_type": "code",
      "source": [
        "savedModel= tf.keras.models.load_model(\"linearModel.h5\")"
      ],
      "metadata": {
        "id": "hR1C21OLaP4w"
      },
      "execution_count": null,
      "outputs": []
    },
    {
      "cell_type": "code",
      "source": [
        "savedModelPred= savedModel.predict(X_test)"
      ],
      "metadata": {
        "id": "YlHEflF-as72"
      },
      "execution_count": null,
      "outputs": []
    },
    {
      "cell_type": "code",
      "source": [
        "modelPred= model.predict(X_test)"
      ],
      "metadata": {
        "id": "xRt_KkIobH2H"
      },
      "execution_count": null,
      "outputs": []
    },
    {
      "cell_type": "code",
      "source": [
        "savedModelPred == modelPred"
      ],
      "metadata": {
        "colab": {
          "base_uri": "https://localhost:8080/"
        },
        "id": "HdvoilqrbaOu",
        "outputId": "cb20c166-8cb0-4743-802d-c64cacc48d86"
      },
      "execution_count": null,
      "outputs": [
        {
          "output_type": "execute_result",
          "data": {
            "text/plain": [
              "array([[ True],\n",
              "       [ True],\n",
              "       [ True],\n",
              "       [ True],\n",
              "       [ True],\n",
              "       [ True],\n",
              "       [ True],\n",
              "       [ True],\n",
              "       [ True],\n",
              "       [ True]])"
            ]
          },
          "metadata": {},
          "execution_count": 27
        }
      ]
    },
    {
      "cell_type": "markdown",
      "source": [
        "# New Section"
      ],
      "metadata": {
        "id": "FrkuNNZgcI6R"
      }
    }
  ]
}