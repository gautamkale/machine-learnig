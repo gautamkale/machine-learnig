{
  "nbformat": 4,
  "nbformat_minor": 0,
  "metadata": {
    "colab": {
      "name": "_tensolrflow_0.ipynb",
      "provenance": [],
      "authorship_tag": "ABX9TyOtpEBn+iJwWvhhBjlltEYM",
      "include_colab_link": true
    },
    "kernelspec": {
      "name": "python3",
      "display_name": "Python 3"
    },
    "language_info": {
      "name": "python"
    }
  },
  "cells": [
    {
      "cell_type": "markdown",
      "metadata": {
        "id": "view-in-github",
        "colab_type": "text"
      },
      "source": [
        "<a href=\"https://colab.research.google.com/github/gautamkale/machine-learnig/blob/main/_tensolrflow_0.ipynb\" target=\"_parent\"><img src=\"https://colab.research.google.com/assets/colab-badge.svg\" alt=\"Open In Colab\"/></a>"
      ]
    },
    {
      "cell_type": "code",
      "metadata": {
        "id": "mMGrzTR0iN1U"
      },
      "source": [
        "import tensorflow as tf"
      ],
      "execution_count": 12,
      "outputs": []
    },
    {
      "cell_type": "code",
      "metadata": {
        "colab": {
          "base_uri": "https://localhost:8080/",
          "height": 35
        },
        "id": "sY3xIXVOjWYF",
        "outputId": "03c3cfcb-d152-4ea3-8119-36b8e6205cf6"
      },
      "source": [
        "tf.__version__"
      ],
      "execution_count": 13,
      "outputs": [
        {
          "output_type": "execute_result",
          "data": {
            "application/vnd.google.colaboratory.intrinsic+json": {
              "type": "string"
            },
            "text/plain": [
              "'2.7.0'"
            ]
          },
          "metadata": {},
          "execution_count": 13
        }
      ]
    },
    {
      "cell_type": "code",
      "metadata": {
        "colab": {
          "base_uri": "https://localhost:8080/"
        },
        "id": "kIn8DaDFijcV",
        "outputId": "889865fb-d9ba-4afa-b6be-49ced04e9c06"
      },
      "source": [
        "scalr= tf.constant(7)\n",
        "scalr.ndim"
      ],
      "execution_count": 10,
      "outputs": [
        {
          "output_type": "execute_result",
          "data": {
            "text/plain": [
              "0"
            ]
          },
          "metadata": {},
          "execution_count": 10
        }
      ]
    },
    {
      "cell_type": "code",
      "metadata": {
        "colab": {
          "base_uri": "https://localhost:8080/"
        },
        "id": "sOyA9jJwiuVL",
        "outputId": "c182d390-b8f3-40e3-8742-aa07635b7269"
      },
      "source": [
        "vector = tf.constant([2,5,9])\n",
        "vector.ndim"
      ],
      "execution_count": 9,
      "outputs": [
        {
          "output_type": "execute_result",
          "data": {
            "text/plain": [
              "1"
            ]
          },
          "metadata": {},
          "execution_count": 9
        }
      ]
    },
    {
      "cell_type": "code",
      "metadata": {
        "colab": {
          "base_uri": "https://localhost:8080/"
        },
        "id": "tjEHGoUsi51M",
        "outputId": "52b90af0-5a1b-4e96-cdc2-3ff8a5097804"
      },
      "source": [
        "matrix = tf.constant([[1,2,3,]\n",
        "                      ,[2,5,6]])\n",
        "matrix.ndim"
      ],
      "execution_count": 15,
      "outputs": [
        {
          "output_type": "execute_result",
          "data": {
            "text/plain": [
              "2"
            ]
          },
          "metadata": {},
          "execution_count": 15
        }
      ]
    },
    {
      "cell_type": "code",
      "metadata": {
        "colab": {
          "base_uri": "https://localhost:8080/"
        },
        "id": "Yz6hXDqijp08",
        "outputId": "4cc4e56d-425a-461f-d6b5-b17b1e369ea9"
      },
      "source": [
        "ndi_matrix=tf.constant([[[1,2,3,5],\n",
        "                         [2,5,6,8,]],\n",
        "                        [[1,2,3,5],\n",
        "                         [2,5,6,8,]],\n",
        "                        [[1,2,3,5],\n",
        "                         [2,5,6,8,]]])\n",
        "ndi_matrix.ndim"
      ],
      "execution_count": 19,
      "outputs": [
        {
          "output_type": "execute_result",
          "data": {
            "text/plain": [
              "3"
            ]
          },
          "metadata": {},
          "execution_count": 19
        }
      ]
    },
    {
      "cell_type": "code",
      "metadata": {
        "id": "dxD4cUA5kY_n"
      },
      "source": [
        ""
      ],
      "execution_count": null,
      "outputs": []
    }
  ]
}